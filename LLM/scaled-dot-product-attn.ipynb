{
 "cells": [
  {
   "cell_type": "code",
   "execution_count": 2,
   "metadata": {},
   "outputs": [],
   "source": [
    "import torch\n",
    "from torch import nn, Tensor\n",
    "import torch.nn.functional as F"
   ]
  },
  {
   "cell_type": "code",
   "execution_count": 3,
   "metadata": {},
   "outputs": [],
   "source": [
    "class ScaledDotProductAttention(nn.Module):\n",
    "    def __init__(self, *args, **kwargs):\n",
    "        super().__init__(*args, **kwargs)\n",
    "    \n",
    "    def forward(self, \n",
    "                query: Tensor, \n",
    "                key: Tensor, \n",
    "                value: Tensor, \n",
    "                casual_mask: Tensor = None, \n",
    "                pad_mask: Tensor = None):\n",
    "        d_k = query.size(-1)\n",
    "        \n",
    "        # [b, seq, seq]\n",
    "        attn_score = torch.matmul(query, key.transpose(-1, -2)) / torch.sqrt(torch.tensor(d_k, dtype=torch.float32))\n",
    "        \n",
    "        if casual_mask is not None: attn_score += casual_mask * -1e9\n",
    "        if pad_mask is not None:\n",
    "            pad_mask = pad_mask.unsqueeze(1).unsqueeze(1) # [b, seq] -> [b, 1, 1, seq]\n",
    "            attn_score += pad_mask * -1e9 # 可以广播 若attn_score为3d 则pad_mask广播为3d； 4d亦然\n",
    "        \n",
    "        attn_probs = F.softmax(attn_score, dim=-1) # [b, seq, seq]\n",
    "        output = torch.matmul(attn_probs, value) # [b, seq, hidden_size]\n",
    "        return output\n",
    "        "
   ]
  },
  {
   "cell_type": "code",
   "execution_count": 4,
   "metadata": {},
   "outputs": [],
   "source": [
    "def sdpa_test():\n",
    "    b, s, h = 128, 256, 1024\n",
    "    q = torch.randn(b, s, h)\n",
    "    k = torch.randn(b, s, h)\n",
    "    v = torch.randn(b, s, h)\n",
    "    sdpa = ScaledDotProductAttention()\n",
    "    output = sdpa(q, k, v)\n",
    "    return output"
   ]
  },
  {
   "cell_type": "code",
   "execution_count": 5,
   "metadata": {},
   "outputs": [],
   "source": [
    "if __name__ == \"__main__\":\n",
    "    sdpa_test()"
   ]
  }
 ],
 "metadata": {
  "kernelspec": {
   "display_name": "lc",
   "language": "python",
   "name": "python3"
  },
  "language_info": {
   "codemirror_mode": {
    "name": "ipython",
    "version": 3
   },
   "file_extension": ".py",
   "mimetype": "text/x-python",
   "name": "python",
   "nbconvert_exporter": "python",
   "pygments_lexer": "ipython3",
   "version": "3.9.21"
  }
 },
 "nbformat": 4,
 "nbformat_minor": 2
}
