{
 "cells": [
  {
   "cell_type": "code",
   "execution_count": 12,
   "metadata": {},
   "outputs": [],
   "source": [
    "import torch\n",
    "from torch import nn\n",
    "import torch.nn.functional as F"
   ]
  },
  {
   "cell_type": "code",
   "execution_count": 13,
   "metadata": {},
   "outputs": [],
   "source": [
    "class MultiHeadAttention(nn.Module):\n",
    "    def __init__(self, \n",
    "                 hidden_dim: torch.Tensor, \n",
    "                 num_heads: torch.Tensor, *args, **kwargs):\n",
    "        super().__init__(*args, **kwargs)\n",
    "        self.hidden_dim = hidden_dim\n",
    "        self.num_heads = num_heads\n",
    "        self.head_dim = hidden_dim // num_heads\n",
    "        self.q_proj = nn.Linear(hidden_dim, hidden_dim)\n",
    "        self.k_proj = nn.Linear(hidden_dim, hidden_dim)\n",
    "        self.v_proj = nn.Linear(hidden_dim, hidden_dim)\n",
    "        self.o_proj = nn.Linear(hidden_dim, hidden_dim)\n",
    "        self.dropout = nn.Dropout(0.1)\n",
    "        \n",
    "    def forward(self,\n",
    "                X: torch.Tensor, \n",
    "                casual_mask: torch.Tensor = None, \n",
    "                pad_mask: torch.Tensor = None):\n",
    "        bsz, seq, _ = X.shape\n",
    "        # [b, s, h]\n",
    "        q: torch.Tensor = self.q_proj(X)\n",
    "        k: torch.Tensor = self.k_proj(X)\n",
    "        v: torch.Tensor = self.v_proj(X)\n",
    "        # [b, nh, s, h]\n",
    "        q = q.view(bsz, seq, self.num_heads, -1).permute(0, 2, 1, 3)\n",
    "        k = k.view(bsz, seq, self.num_heads, -1).permute(0, 2, 1, 3)\n",
    "        v = v.view(bsz, seq, self.num_heads, -1).permute(0, 2, 1, 3)\n",
    "        attn_score = q @ k.transpose(-2, -1) / self.head_dim ** 0.5\n",
    "        if casual_mask is not None: attn_score += casual_mask * -1e9\n",
    "        if pad_mask is not None:\n",
    "            # [bsz, 1, 1, seq]\n",
    "            pad_mask = pad_mask.unsqueeze(1).unsqueeze(1)\n",
    "            attn_score += pad_mask * -1e9\n",
    "        attn_probs = F.softmax(attn_score, dim=-1)\n",
    "        attn_probs = self.dropout(attn_probs)\n",
    "        output_mid: torch.Tensor = attn_probs @ v # [bsz, nh, seq, seq] @ [bsz, nh, seq, h] = [bsz, nh, seq, h]\n",
    "        output = self.o_proj(output_mid.permute(0, 2, 1, 3).reshape(bsz, seq, -1))\n",
    "        return output"
   ]
  },
  {
   "cell_type": "code",
   "execution_count": 16,
   "metadata": {},
   "outputs": [],
   "source": [
    "def mha_test():\n",
    "    bsz, seq_len, hidden_dim, num_heads = 128, 512, 1024, 8\n",
    "    X = torch.randn(bsz, seq_len, hidden_dim)\n",
    "    mha = MultiHeadAttention(hidden_dim, num_heads)\n",
    "    casual_mask = torch.triu(torch.ones(seq_len, seq_len), diagonal=1)\n",
    "    output = mha(X, casual_mask)\n",
    "    return output"
   ]
  },
  {
   "cell_type": "code",
   "execution_count": 17,
   "metadata": {},
   "outputs": [],
   "source": [
    "if __name__ == \"__main__\":\n",
    "    mha_test()"
   ]
  }
 ],
 "metadata": {
  "kernelspec": {
   "display_name": "lc",
   "language": "python",
   "name": "python3"
  },
  "language_info": {
   "codemirror_mode": {
    "name": "ipython",
    "version": 3
   },
   "file_extension": ".py",
   "mimetype": "text/x-python",
   "name": "python",
   "nbconvert_exporter": "python",
   "pygments_lexer": "ipython3",
   "version": "3.9.21"
  }
 },
 "nbformat": 4,
 "nbformat_minor": 2
}
